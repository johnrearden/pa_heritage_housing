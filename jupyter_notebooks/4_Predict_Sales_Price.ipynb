{
  "cells": [
    {
      "cell_type": "markdown",
      "metadata": {
        "id": "0aStgWSO0E0E"
      },
      "source": [
        "# Predict Sale Price"
      ]
    },
    {
      "cell_type": "markdown",
      "metadata": {
        "id": "9uWZXH9LwoQg"
      },
      "source": [
        "---"
      ]
    },
    {
      "cell_type": "markdown",
      "metadata": {
        "id": "cqP-UeN-z3i2"
      },
      "source": [
        "# Change working directory"
      ]
    },
    {
      "cell_type": "markdown",
      "metadata": {},
      "source": [
        "* We are assuming you will store the notebooks in a subfolder, therefore when running the notebook in the editor, you will need to change the working directory"
      ]
    },
    {
      "cell_type": "markdown",
      "metadata": {
        "id": "aOGIGS-uz3i2"
      },
      "source": [
        "We need to change the working directory from its current folder to its parent folder\n",
        "* We access the current directory with os.getcwd()"
      ]
    },
    {
      "cell_type": "code",
      "execution_count": 1,
      "metadata": {
        "id": "wZfF_j-Bz3i4",
        "outputId": "66943449-1436-4c3d-85c7-b85f9f78349b"
      },
      "outputs": [
        {
          "data": {
            "text/plain": [
              "'/workspace/pa_heritage_housing/jupyter_notebooks'"
            ]
          },
          "execution_count": 1,
          "metadata": {},
          "output_type": "execute_result"
        }
      ],
      "source": [
        "import os\n",
        "current_dir = os.getcwd()\n",
        "current_dir"
      ]
    },
    {
      "cell_type": "markdown",
      "metadata": {
        "id": "9MWW8E7lz3i7"
      },
      "source": [
        "We want to make the parent of the current directory the new current directory\n",
        "* os.path.dirname() gets the parent directory\n",
        "* os.chir() defines the new current directory"
      ]
    },
    {
      "cell_type": "code",
      "execution_count": 2,
      "metadata": {
        "id": "TwHsQRWjz3i9",
        "outputId": "86849db3-cd2f-4cc5-ebb8-2d0caafa1a2c"
      },
      "outputs": [
        {
          "name": "stdout",
          "output_type": "stream",
          "text": [
            "You set a new current directory\n"
          ]
        }
      ],
      "source": [
        "os.chdir(os.path.dirname(current_dir))\n",
        "print(\"You set a new current directory\")"
      ]
    },
    {
      "cell_type": "markdown",
      "metadata": {
        "id": "M_xPk_Ijz3i-"
      },
      "source": [
        "Confirm the new current directory"
      ]
    },
    {
      "cell_type": "code",
      "execution_count": 3,
      "metadata": {
        "id": "vz3S-_kjz3jA",
        "outputId": "00b79ae4-75d0-4a96-d193-ac9ef9847ea2"
      },
      "outputs": [
        {
          "data": {
            "text/plain": [
              "'/workspace/pa_heritage_housing'"
            ]
          },
          "execution_count": 3,
          "metadata": {},
          "output_type": "execute_result"
        }
      ],
      "source": [
        "current_dir = os.getcwd()\n",
        "current_dir"
      ]
    },
    {
      "cell_type": "markdown",
      "metadata": {
        "id": "-mavJ8DibrcQ"
      },
      "source": [
        "# Load Data"
      ]
    },
    {
      "cell_type": "code",
      "execution_count": 85,
      "metadata": {},
      "outputs": [
        {
          "name": "stdout",
          "output_type": "stream",
          "text": [
            "      Unnamed: 0  1stFlrSF  2ndFlrSF  BedroomAbvGr BsmtExposure  BsmtFinSF1  \\\n",
            "0              0       856     854.0           3.0           No         706   \n",
            "1              1      1262       0.0           3.0           Gd         978   \n",
            "2              2       920     866.0           3.0           Mn         486   \n",
            "3              3       961       0.0           0.0           No         216   \n",
            "4              4      1145       0.0           4.0           Av         655   \n",
            "...          ...       ...       ...           ...          ...         ...   \n",
            "1455        1455       953     694.0           3.0           No           0   \n",
            "1456        1456      2073       0.0           0.0           No         790   \n",
            "1457        1457      1188    1152.0           4.0           No         275   \n",
            "1458        1458      1078       0.0           2.0           Mn          49   \n",
            "1459        1459      1256       0.0           3.0           No         830   \n",
            "\n",
            "       BsmtFinType1  BsmtUnfSF  EnclosedPorch  GarageArea  ... LotFrontage  \\\n",
            "0               GLQ        150            0.0         548  ...        65.0   \n",
            "1               ALQ        284            0.0         460  ...        80.0   \n",
            "2               GLQ        434            0.0         608  ...        68.0   \n",
            "3               ALQ        540            0.0         642  ...        60.0   \n",
            "4               GLQ        490            0.0         836  ...        84.0   \n",
            "...             ...        ...            ...         ...  ...         ...   \n",
            "1455            Unf        953            0.0         460  ...        62.0   \n",
            "1456            ALQ        589            0.0         500  ...        85.0   \n",
            "1457            GLQ        877            0.0         252  ...        66.0   \n",
            "1458  NotApplicable          0          112.0         240  ...        68.0   \n",
            "1459            BLQ        136            0.0         276  ...        75.0   \n",
            "\n",
            "      MasVnrArea  OpenPorchSF OverallCond  OverallQual  TotalBsmtSF  \\\n",
            "0          196.0           61           5            7          856   \n",
            "1            0.0            0           8            6         1262   \n",
            "2          162.0           42           5            7          920   \n",
            "3            0.0           35           5            7          756   \n",
            "4          350.0           84           5            8         1145   \n",
            "...          ...          ...         ...          ...          ...   \n",
            "1455         0.0           40           5            6          953   \n",
            "1456       119.0            0           6            6         1542   \n",
            "1457         0.0           60           9            7         1152   \n",
            "1458         0.0            0           6            5         1078   \n",
            "1459         0.0           68           6            5         1256   \n",
            "\n",
            "      WoodDeckSF  YearBuilt  YearRemodAdd  SalePrice  \n",
            "0            0.0       2003          2003     208500  \n",
            "1            0.0       1976          1976     181500  \n",
            "2            0.0       2001          2002     223500  \n",
            "3            0.0       1915          1970     140000  \n",
            "4            0.0       2000          2000     250000  \n",
            "...          ...        ...           ...        ...  \n",
            "1455         0.0       1999          2000     175000  \n",
            "1456         0.0       1978          1988     210000  \n",
            "1457         0.0       1941          2006     266500  \n",
            "1458         0.0       1950          1996     142125  \n",
            "1459       736.0       1965          1965     147500  \n",
            "\n",
            "[1460 rows x 25 columns]\n"
          ]
        },
        {
          "data": {
            "text/html": [
              "<div>\n",
              "<style scoped>\n",
              "    .dataframe tbody tr th:only-of-type {\n",
              "        vertical-align: middle;\n",
              "    }\n",
              "\n",
              "    .dataframe tbody tr th {\n",
              "        vertical-align: top;\n",
              "    }\n",
              "\n",
              "    .dataframe thead th {\n",
              "        text-align: right;\n",
              "    }\n",
              "</style>\n",
              "<table border=\"1\" class=\"dataframe\">\n",
              "  <thead>\n",
              "    <tr style=\"text-align: right;\">\n",
              "      <th></th>\n",
              "      <th>Unnamed: 0</th>\n",
              "      <th>1stFlrSF</th>\n",
              "      <th>2ndFlrSF</th>\n",
              "      <th>BedroomAbvGr</th>\n",
              "      <th>BsmtExposure</th>\n",
              "      <th>BsmtFinSF1</th>\n",
              "      <th>BsmtFinType1</th>\n",
              "      <th>BsmtUnfSF</th>\n",
              "      <th>EnclosedPorch</th>\n",
              "      <th>GarageArea</th>\n",
              "      <th>...</th>\n",
              "      <th>LotFrontage</th>\n",
              "      <th>MasVnrArea</th>\n",
              "      <th>OpenPorchSF</th>\n",
              "      <th>OverallCond</th>\n",
              "      <th>OverallQual</th>\n",
              "      <th>TotalBsmtSF</th>\n",
              "      <th>WoodDeckSF</th>\n",
              "      <th>YearBuilt</th>\n",
              "      <th>YearRemodAdd</th>\n",
              "      <th>SalePrice</th>\n",
              "    </tr>\n",
              "  </thead>\n",
              "  <tbody>\n",
              "    <tr>\n",
              "      <th>0</th>\n",
              "      <td>0</td>\n",
              "      <td>856</td>\n",
              "      <td>854.0</td>\n",
              "      <td>3.0</td>\n",
              "      <td>No</td>\n",
              "      <td>706</td>\n",
              "      <td>GLQ</td>\n",
              "      <td>150</td>\n",
              "      <td>0.0</td>\n",
              "      <td>548</td>\n",
              "      <td>...</td>\n",
              "      <td>65.0</td>\n",
              "      <td>196.0</td>\n",
              "      <td>61</td>\n",
              "      <td>5</td>\n",
              "      <td>7</td>\n",
              "      <td>856</td>\n",
              "      <td>0.0</td>\n",
              "      <td>2003</td>\n",
              "      <td>2003</td>\n",
              "      <td>208500</td>\n",
              "    </tr>\n",
              "    <tr>\n",
              "      <th>1</th>\n",
              "      <td>1</td>\n",
              "      <td>1262</td>\n",
              "      <td>0.0</td>\n",
              "      <td>3.0</td>\n",
              "      <td>Gd</td>\n",
              "      <td>978</td>\n",
              "      <td>ALQ</td>\n",
              "      <td>284</td>\n",
              "      <td>0.0</td>\n",
              "      <td>460</td>\n",
              "      <td>...</td>\n",
              "      <td>80.0</td>\n",
              "      <td>0.0</td>\n",
              "      <td>0</td>\n",
              "      <td>8</td>\n",
              "      <td>6</td>\n",
              "      <td>1262</td>\n",
              "      <td>0.0</td>\n",
              "      <td>1976</td>\n",
              "      <td>1976</td>\n",
              "      <td>181500</td>\n",
              "    </tr>\n",
              "    <tr>\n",
              "      <th>2</th>\n",
              "      <td>2</td>\n",
              "      <td>920</td>\n",
              "      <td>866.0</td>\n",
              "      <td>3.0</td>\n",
              "      <td>Mn</td>\n",
              "      <td>486</td>\n",
              "      <td>GLQ</td>\n",
              "      <td>434</td>\n",
              "      <td>0.0</td>\n",
              "      <td>608</td>\n",
              "      <td>...</td>\n",
              "      <td>68.0</td>\n",
              "      <td>162.0</td>\n",
              "      <td>42</td>\n",
              "      <td>5</td>\n",
              "      <td>7</td>\n",
              "      <td>920</td>\n",
              "      <td>0.0</td>\n",
              "      <td>2001</td>\n",
              "      <td>2002</td>\n",
              "      <td>223500</td>\n",
              "    </tr>\n",
              "  </tbody>\n",
              "</table>\n",
              "<p>3 rows × 25 columns</p>\n",
              "</div>"
            ],
            "text/plain": [
              "   Unnamed: 0  1stFlrSF  2ndFlrSF  BedroomAbvGr BsmtExposure  BsmtFinSF1  \\\n",
              "0           0       856     854.0           3.0           No         706   \n",
              "1           1      1262       0.0           3.0           Gd         978   \n",
              "2           2       920     866.0           3.0           Mn         486   \n",
              "\n",
              "  BsmtFinType1  BsmtUnfSF  EnclosedPorch  GarageArea  ... LotFrontage  \\\n",
              "0          GLQ        150            0.0         548  ...        65.0   \n",
              "1          ALQ        284            0.0         460  ...        80.0   \n",
              "2          GLQ        434            0.0         608  ...        68.0   \n",
              "\n",
              "   MasVnrArea  OpenPorchSF OverallCond  OverallQual  TotalBsmtSF  WoodDeckSF  \\\n",
              "0       196.0           61           5            7          856         0.0   \n",
              "1         0.0            0           8            6         1262         0.0   \n",
              "2       162.0           42           5            7          920         0.0   \n",
              "\n",
              "   YearBuilt  YearRemodAdd  SalePrice  \n",
              "0       2003          2003     208500  \n",
              "1       1976          1976     181500  \n",
              "2       2001          2002     223500  \n",
              "\n",
              "[3 rows x 25 columns]"
            ]
          },
          "execution_count": 85,
          "metadata": {},
          "output_type": "execute_result"
        }
      ],
      "source": [
        "import numpy as np\n",
        "import pandas as pd\n",
        "df = (pd.read_csv(\"outputs/datasets/collection/house_price_records.csv\"))\n",
        "\n",
        "print(df)\n",
        "df.head(3)"
      ]
    },
    {
      "cell_type": "code",
      "execution_count": 13,
      "metadata": {},
      "outputs": [
        {
          "data": {
            "text/plain": [
              "Unnamed: 0         int64\n",
              "1stFlrSF           int64\n",
              "2ndFlrSF         float64\n",
              "BedroomAbvGr     float64\n",
              "BsmtExposure      object\n",
              "BsmtFinSF1         int64\n",
              "BsmtFinType1      object\n",
              "BsmtUnfSF          int64\n",
              "EnclosedPorch    float64\n",
              "GarageArea         int64\n",
              "GarageFinish      object\n",
              "GarageYrBlt      float64\n",
              "GrLivArea          int64\n",
              "KitchenQual       object\n",
              "LotArea            int64\n",
              "LotFrontage      float64\n",
              "MasVnrArea       float64\n",
              "OpenPorchSF        int64\n",
              "OverallCond        int64\n",
              "OverallQual        int64\n",
              "TotalBsmtSF        int64\n",
              "WoodDeckSF       float64\n",
              "YearBuilt          int64\n",
              "YearRemodAdd       int64\n",
              "SalePrice          int64\n",
              "dtype: object"
            ]
          },
          "execution_count": 13,
          "metadata": {},
          "output_type": "execute_result"
        }
      ],
      "source": [
        "df.dtypes"
      ]
    },
    {
      "cell_type": "markdown",
      "metadata": {
        "id": "ZY3l0-AxO93d"
      },
      "source": [
        "---"
      ]
    },
    {
      "cell_type": "markdown",
      "metadata": {
        "id": "uFQo3ycuO-v6"
      },
      "source": [
        "# Create Pipeline\n",
        "Pipeline includes 2 elements\n",
        "-   OneHotEncoding for features with object type\n",
        "-   MeanMedianImputation for remaining features with missing values"
      ]
    },
    {
      "cell_type": "code",
      "execution_count": 86,
      "metadata": {},
      "outputs": [
        {
          "data": {
            "text/plain": [
              "Pipeline(steps=[('OneHotEncoder',\n",
              "                 OneHotEncoder(variables=['BsmtExposure', 'BsmtFinType1',\n",
              "                                          'GarageFinish', 'KitchenQual'])),\n",
              "                ('MeanMedianImputer',\n",
              "                 MeanMedianImputer(variables=['LotFrontage', 'GarageYrBlt']))])"
            ]
          },
          "execution_count": 86,
          "metadata": {},
          "output_type": "execute_result"
        }
      ],
      "source": [
        "from sklearn.pipeline import Pipeline\n",
        "\n",
        "from feature_engine.encoding import OneHotEncoder\n",
        "from feature_engine.imputation import MeanMedianImputer\n",
        "\n",
        "def PipelineDataCleaning():\n",
        "    pipeline_base = Pipeline([\n",
        "        (\"OneHotEncoder\", OneHotEncoder(\n",
        "            variables=df.columns[df.dtypes=='object'].to_list(),\n",
        "            drop_last=False\n",
        "        )),\n",
        "        (\"MeanMedianImputer\", MeanMedianImputer(\n",
        "            imputation_method='median',\n",
        "            variables=['LotFrontage', 'GarageYrBlt']\n",
        "        ))\n",
        "    ])\n",
        "\n",
        "    return pipeline_base\n",
        "\n",
        "PipelineDataCleaning()"
      ]
    },
    {
      "cell_type": "markdown",
      "metadata": {},
      "source": [
        "---"
      ]
    },
    {
      "cell_type": "markdown",
      "metadata": {},
      "source": [
        "# ML Pipeline for Modelling and HyperParameter Optimisation"
      ]
    },
    {
      "cell_type": "code",
      "execution_count": 24,
      "metadata": {},
      "outputs": [],
      "source": [
        "# Feat Scaling\n",
        "from sklearn.preprocessing import StandardScaler\n",
        "\n",
        "# Feat Selection\n",
        "from sklearn.feature_selection import SelectFromModel\n",
        "\n",
        "# ML algorithms\n",
        "from sklearn.linear_model import LinearRegression\n",
        "from sklearn.tree import DecisionTreeRegressor\n",
        "from sklearn.ensemble import RandomForestRegressor\n",
        "from sklearn.ensemble import GradientBoostingRegressor\n",
        "from sklearn.ensemble import ExtraTreesRegressor\n",
        "from sklearn.ensemble import AdaBoostRegressor\n",
        "from xgboost import XGBRegressor\n",
        "\n",
        "\n",
        "def PipelineClf(model):\n",
        "    pipeline_base = Pipeline([\n",
        "        (\"scaler\", StandardScaler()),\n",
        "        (\"feat_selection\", SelectFromModel(model)),\n",
        "        (\"model\", model),\n",
        "    ])\n",
        "\n",
        "    return pipeline_base\n"
      ]
    },
    {
      "cell_type": "markdown",
      "metadata": {},
      "source": [
        "Custom Class for Hyperparameter Optimisation"
      ]
    },
    {
      "cell_type": "code",
      "execution_count": 65,
      "metadata": {},
      "outputs": [],
      "source": [
        "from sklearn.model_selection import GridSearchCV\n",
        "\n",
        "\n",
        "class HyperparameterOptimizationSearch:\n",
        "\n",
        "    def __init__(self, models, params):\n",
        "        self.models = models\n",
        "        self.params = params\n",
        "        self.keys = models.keys()\n",
        "        self.grid_searches = {}\n",
        "\n",
        "    def fit(self, X, y, cv, n_jobs, verbose=1, scoring=None, refit=False):\n",
        "        for key in self.keys:\n",
        "            print(f\"\\nRunning GridSearchCV for {key} \\n\")\n",
        "\n",
        "            model = PipelineClf(self.models[key])\n",
        "            params = self.params[key]\n",
        "            gs = GridSearchCV(model, params, cv=cv, n_jobs=n_jobs,\n",
        "                              verbose=verbose, scoring=scoring, )\n",
        "            gs.fit(X, y)\n",
        "            self.grid_searches[key] = gs\n",
        "\n",
        "    def score_summary(self, sort_by='mean_score'):\n",
        "        def row(key, scores, params):\n",
        "            d = {\n",
        "                'estimator': key,\n",
        "                'min_score': min(scores),\n",
        "                'max_score': max(scores),\n",
        "                'mean_score': np.mean(scores),\n",
        "                'std_score': np.std(scores),\n",
        "            }\n",
        "            return pd.Series({**params, **d})\n",
        "\n",
        "        rows = []\n",
        "        for k in self.grid_searches:\n",
        "            params = self.grid_searches[k].cv_results_['params']\n",
        "            scores = []\n",
        "            for i in range(self.grid_searches[k].cv):\n",
        "                key = \"split{}_test_score\".format(i)\n",
        "                r = self.grid_searches[k].cv_results_[key]\n",
        "                scores.append(r.reshape(len(params), 1))\n",
        "\n",
        "            all_scores = np.hstack(scores)\n",
        "            for p, s in zip(params, all_scores):\n",
        "                rows.append((row(k, s, p)))\n",
        "\n",
        "        df = pd.concat(rows, axis=1).T.sort_values([sort_by])\n",
        "        columns = ['estimator', 'min_score',\n",
        "                   'mean_score', 'max_score', 'std_score']\n",
        "        columns = columns + [c for c in df.columns if c not in columns]\n",
        "        return df[columns], self.grid_searches\n"
      ]
    },
    {
      "cell_type": "markdown",
      "metadata": {},
      "source": [
        "# Split train and test set"
      ]
    },
    {
      "cell_type": "code",
      "execution_count": 87,
      "metadata": {},
      "outputs": [
        {
          "name": "stdout",
          "output_type": "stream",
          "text": [
            "(1168, 24) (1168,) (292, 24) (292,)\n"
          ]
        }
      ],
      "source": [
        "from sklearn.model_selection import train_test_split\n",
        "X_train, X_test, y_train, y_test = train_test_split(\n",
        "    df.drop(['SalePrice'], axis=1),\n",
        "    df['SalePrice'],\n",
        "    test_size=0.2,\n",
        "    random_state=0,\n",
        ")\n",
        "\n",
        "print(X_train.shape, y_train.shape, X_test.shape, y_test.shape)"
      ]
    },
    {
      "cell_type": "markdown",
      "metadata": {},
      "source": [
        "# Run train and test sets through data cleaning pipeline"
      ]
    },
    {
      "cell_type": "code",
      "execution_count": 88,
      "metadata": {},
      "outputs": [
        {
          "name": "stdout",
          "output_type": "stream",
          "text": [
            "(1168, 40) (1168,) (292, 40) (292,)\n"
          ]
        }
      ],
      "source": [
        "pipeline_data_cleaning = PipelineDataCleaning()\n",
        "X_train = pipeline_data_cleaning.fit_transform(X_train)\n",
        "X_test = pipeline_data_cleaning.transform(X_test)\n",
        "print(X_train.shape, y_train.shape, X_test.shape, y_test.shape)"
      ]
    },
    {
      "cell_type": "code",
      "execution_count": 89,
      "metadata": {},
      "outputs": [
        {
          "data": {
            "text/plain": [
              "[]"
            ]
          },
          "execution_count": 89,
          "metadata": {},
          "output_type": "execute_result"
        }
      ],
      "source": [
        "vars_with_missing_data = X_train.columns[X_train.isna().sum() > 0].to_list()\n",
        "vars_with_missing_data"
      ]
    },
    {
      "cell_type": "markdown",
      "metadata": {},
      "source": [
        "---"
      ]
    },
    {
      "cell_type": "markdown",
      "metadata": {},
      "source": [
        "# Grid Search SV - Sklearn\n",
        "Use standard hyperparameters to find most suitable algorithm"
      ]
    },
    {
      "cell_type": "code",
      "execution_count": 26,
      "metadata": {},
      "outputs": [],
      "source": [
        "models_quick_search = {\n",
        "    \"LinearRegression\": LinearRegression(),\n",
        "    \"XGBRegressor\": XGBRegressor(),\n",
        "    \"DecisionTreeRegressor\": DecisionTreeRegressor(),\n",
        "    \"RandomForestRegressor\": RandomForestRegressor(),\n",
        "    \"GradientBoostingRegressor\": GradientBoostingRegressor(),\n",
        "    \"ExtraTreesRegressor\": ExtraTreesRegressor(),\n",
        "    \"AdaBoostRegressor\": AdaBoostRegressor(),\n",
        "}\n",
        "\n",
        "params_quick_search = {\n",
        "    \"LinearRegression\": {},\n",
        "    \"XGBRegressor\": {},\n",
        "    \"DecisionTreeRegressor\": {},\n",
        "    \"RandomForestRegressor\": {},\n",
        "    \"GradientBoostingRegressor\": {},\n",
        "    \"ExtraTreesRegressor\": {},\n",
        "    \"AdaBoostRegressor\": {},\n",
        "}"
      ]
    },
    {
      "cell_type": "code",
      "execution_count": 90,
      "metadata": {},
      "outputs": [
        {
          "name": "stdout",
          "output_type": "stream",
          "text": [
            "\n",
            "Running GridSearchCV for LinearRegression \n",
            "\n",
            "Fitting 5 folds for each of 1 candidates, totalling 5 fits\n",
            "\n",
            "Running GridSearchCV for XGBRegressor \n",
            "\n",
            "Fitting 5 folds for each of 1 candidates, totalling 5 fits\n"
          ]
        },
        {
          "name": "stderr",
          "output_type": "stream",
          "text": [
            "/workspace/.pip-modules/lib/python3.8/site-packages/xgboost/compat.py:93: FutureWarning: pandas.Int64Index is deprecated and will be removed from pandas in a future version. Use pandas.Index with the appropriate dtype instead.\n",
            "  from pandas import MultiIndex, Int64Index\n",
            "/workspace/.pip-modules/lib/python3.8/site-packages/xgboost/compat.py:93: FutureWarning: pandas.Int64Index is deprecated and will be removed from pandas in a future version. Use pandas.Index with the appropriate dtype instead.\n",
            "  from pandas import MultiIndex, Int64Index\n",
            "/workspace/.pip-modules/lib/python3.8/site-packages/xgboost/compat.py:93: FutureWarning: pandas.Int64Index is deprecated and will be removed from pandas in a future version. Use pandas.Index with the appropriate dtype instead.\n",
            "  from pandas import MultiIndex, Int64Index\n",
            "/workspace/.pip-modules/lib/python3.8/site-packages/xgboost/compat.py:93: FutureWarning: pandas.Int64Index is deprecated and will be removed from pandas in a future version. Use pandas.Index with the appropriate dtype instead.\n",
            "  from pandas import MultiIndex, Int64Index\n",
            "/workspace/.pip-modules/lib/python3.8/site-packages/xgboost/compat.py:93: FutureWarning: pandas.Int64Index is deprecated and will be removed from pandas in a future version. Use pandas.Index with the appropriate dtype instead.\n",
            "  from pandas import MultiIndex, Int64Index\n"
          ]
        },
        {
          "name": "stdout",
          "output_type": "stream",
          "text": [
            "\n",
            "Running GridSearchCV for DecisionTreeRegressor \n",
            "\n",
            "Fitting 5 folds for each of 1 candidates, totalling 5 fits\n",
            "\n",
            "Running GridSearchCV for RandomForestRegressor \n",
            "\n",
            "Fitting 5 folds for each of 1 candidates, totalling 5 fits\n",
            "\n",
            "Running GridSearchCV for GradientBoostingRegressor \n",
            "\n",
            "Fitting 5 folds for each of 1 candidates, totalling 5 fits\n",
            "\n",
            "Running GridSearchCV for ExtraTreesRegressor \n",
            "\n",
            "Fitting 5 folds for each of 1 candidates, totalling 5 fits\n",
            "\n",
            "Running GridSearchCV for AdaBoostRegressor \n",
            "\n",
            "Fitting 5 folds for each of 1 candidates, totalling 5 fits\n",
            "\n",
            "Running GridSearchCV for LinearRegression \n",
            "\n",
            "Fitting 5 folds for each of 1 candidates, totalling 5 fits\n",
            "\n",
            "Running GridSearchCV for XGBRegressor \n",
            "\n",
            "Fitting 5 folds for each of 1 candidates, totalling 5 fits\n"
          ]
        },
        {
          "name": "stderr",
          "output_type": "stream",
          "text": [
            "/workspace/.pip-modules/lib/python3.8/site-packages/xgboost/compat.py:93: FutureWarning: pandas.Int64Index is deprecated and will be removed from pandas in a future version. Use pandas.Index with the appropriate dtype instead.\n",
            "  from pandas import MultiIndex, Int64Index\n",
            "/workspace/.pip-modules/lib/python3.8/site-packages/xgboost/compat.py:93: FutureWarning: pandas.Int64Index is deprecated and will be removed from pandas in a future version. Use pandas.Index with the appropriate dtype instead.\n",
            "  from pandas import MultiIndex, Int64Index\n",
            "/workspace/.pip-modules/lib/python3.8/site-packages/xgboost/compat.py:93: FutureWarning: pandas.Int64Index is deprecated and will be removed from pandas in a future version. Use pandas.Index with the appropriate dtype instead.\n",
            "  from pandas import MultiIndex, Int64Index\n"
          ]
        },
        {
          "name": "stdout",
          "output_type": "stream",
          "text": [
            "\n",
            "Running GridSearchCV for DecisionTreeRegressor \n",
            "\n",
            "Fitting 5 folds for each of 1 candidates, totalling 5 fits\n",
            "\n",
            "Running GridSearchCV for RandomForestRegressor \n",
            "\n",
            "Fitting 5 folds for each of 1 candidates, totalling 5 fits\n",
            "\n",
            "Running GridSearchCV for GradientBoostingRegressor \n",
            "\n",
            "Fitting 5 folds for each of 1 candidates, totalling 5 fits\n",
            "\n",
            "Running GridSearchCV for ExtraTreesRegressor \n",
            "\n",
            "Fitting 5 folds for each of 1 candidates, totalling 5 fits\n",
            "\n",
            "Running GridSearchCV for AdaBoostRegressor \n",
            "\n",
            "Fitting 5 folds for each of 1 candidates, totalling 5 fits\n"
          ]
        }
      ],
      "source": [
        "from sklearn.metrics import make_scorer, r2_score, mean_squared_error\n",
        "search_r2 = HyperparameterOptimizationSearch(models=models_quick_search, params=params_quick_search)\n",
        "search_r2.fit(X_train, y_train,\n",
        "           scoring =  make_scorer(r2_score),\n",
        "           n_jobs=-1, cv=5)\n",
        "search_mean_sq_error = HyperparameterOptimizationSearch(models=models_quick_search, params=params_quick_search\n",
        ")\n",
        "search_mean_sq_error.fit(X_train, y_train,\n",
        "           scoring =  make_scorer(mean_squared_error),\n",
        "           n_jobs=-1, cv=5)\n"
      ]
    },
    {
      "cell_type": "markdown",
      "metadata": {},
      "source": [
        "Check Results for r2_score"
      ]
    },
    {
      "cell_type": "code",
      "execution_count": 91,
      "metadata": {},
      "outputs": [
        {
          "data": {
            "text/html": [
              "<div>\n",
              "<style scoped>\n",
              "    .dataframe tbody tr th:only-of-type {\n",
              "        vertical-align: middle;\n",
              "    }\n",
              "\n",
              "    .dataframe tbody tr th {\n",
              "        vertical-align: top;\n",
              "    }\n",
              "\n",
              "    .dataframe thead th {\n",
              "        text-align: right;\n",
              "    }\n",
              "</style>\n",
              "<table border=\"1\" class=\"dataframe\">\n",
              "  <thead>\n",
              "    <tr style=\"text-align: right;\">\n",
              "      <th></th>\n",
              "      <th>estimator</th>\n",
              "      <th>min_score</th>\n",
              "      <th>mean_score</th>\n",
              "      <th>max_score</th>\n",
              "      <th>std_score</th>\n",
              "    </tr>\n",
              "  </thead>\n",
              "  <tbody>\n",
              "    <tr>\n",
              "      <th>0</th>\n",
              "      <td>LinearRegression</td>\n",
              "      <td>0.369241</td>\n",
              "      <td>0.521651</td>\n",
              "      <td>0.855864</td>\n",
              "      <td>0.178086</td>\n",
              "    </tr>\n",
              "    <tr>\n",
              "      <th>2</th>\n",
              "      <td>DecisionTreeRegressor</td>\n",
              "      <td>0.546225</td>\n",
              "      <td>0.651267</td>\n",
              "      <td>0.743736</td>\n",
              "      <td>0.080695</td>\n",
              "    </tr>\n",
              "    <tr>\n",
              "      <th>1</th>\n",
              "      <td>XGBRegressor</td>\n",
              "      <td>0.510339</td>\n",
              "      <td>0.694048</td>\n",
              "      <td>0.781024</td>\n",
              "      <td>0.104828</td>\n",
              "    </tr>\n",
              "    <tr>\n",
              "      <th>6</th>\n",
              "      <td>AdaBoostRegressor</td>\n",
              "      <td>0.689304</td>\n",
              "      <td>0.7742</td>\n",
              "      <td>0.824689</td>\n",
              "      <td>0.046901</td>\n",
              "    </tr>\n",
              "    <tr>\n",
              "      <th>4</th>\n",
              "      <td>GradientBoostingRegressor</td>\n",
              "      <td>0.626356</td>\n",
              "      <td>0.808589</td>\n",
              "      <td>0.892024</td>\n",
              "      <td>0.095943</td>\n",
              "    </tr>\n",
              "    <tr>\n",
              "      <th>5</th>\n",
              "      <td>ExtraTreesRegressor</td>\n",
              "      <td>0.65465</td>\n",
              "      <td>0.808894</td>\n",
              "      <td>0.876842</td>\n",
              "      <td>0.080852</td>\n",
              "    </tr>\n",
              "    <tr>\n",
              "      <th>3</th>\n",
              "      <td>RandomForestRegressor</td>\n",
              "      <td>0.678315</td>\n",
              "      <td>0.812799</td>\n",
              "      <td>0.879154</td>\n",
              "      <td>0.074421</td>\n",
              "    </tr>\n",
              "  </tbody>\n",
              "</table>\n",
              "</div>"
            ],
            "text/plain": [
              "                   estimator min_score mean_score max_score std_score\n",
              "0           LinearRegression  0.369241   0.521651  0.855864  0.178086\n",
              "2      DecisionTreeRegressor  0.546225   0.651267  0.743736  0.080695\n",
              "1               XGBRegressor  0.510339   0.694048  0.781024  0.104828\n",
              "6          AdaBoostRegressor  0.689304     0.7742  0.824689  0.046901\n",
              "4  GradientBoostingRegressor  0.626356   0.808589  0.892024  0.095943\n",
              "5        ExtraTreesRegressor   0.65465   0.808894  0.876842  0.080852\n",
              "3      RandomForestRegressor  0.678315   0.812799  0.879154  0.074421"
            ]
          },
          "execution_count": 91,
          "metadata": {},
          "output_type": "execute_result"
        }
      ],
      "source": [
        "grid_search_summary, grid_search_pipelines = search_r2.score_summary(sort_by='mean_score')\n",
        "grid_search_summary "
      ]
    },
    {
      "cell_type": "markdown",
      "metadata": {},
      "source": [
        "Check results for mean_squared_error"
      ]
    },
    {
      "cell_type": "code",
      "execution_count": 92,
      "metadata": {},
      "outputs": [
        {
          "data": {
            "text/html": [
              "<div>\n",
              "<style scoped>\n",
              "    .dataframe tbody tr th:only-of-type {\n",
              "        vertical-align: middle;\n",
              "    }\n",
              "\n",
              "    .dataframe tbody tr th {\n",
              "        vertical-align: top;\n",
              "    }\n",
              "\n",
              "    .dataframe thead th {\n",
              "        text-align: right;\n",
              "    }\n",
              "</style>\n",
              "<table border=\"1\" class=\"dataframe\">\n",
              "  <thead>\n",
              "    <tr style=\"text-align: right;\">\n",
              "      <th></th>\n",
              "      <th>estimator</th>\n",
              "      <th>min_score</th>\n",
              "      <th>mean_score</th>\n",
              "      <th>max_score</th>\n",
              "      <th>std_score</th>\n",
              "    </tr>\n",
              "  </thead>\n",
              "  <tbody>\n",
              "    <tr>\n",
              "      <th>3</th>\n",
              "      <td>RandomForestRegressor</td>\n",
              "      <td>632588078.306847</td>\n",
              "      <td>1167394965.08276</td>\n",
              "      <td>2058859632.006319</td>\n",
              "      <td>514732005.043626</td>\n",
              "    </tr>\n",
              "    <tr>\n",
              "      <th>5</th>\n",
              "      <td>ExtraTreesRegressor</td>\n",
              "      <td>621355849.059689</td>\n",
              "      <td>1171837160.077593</td>\n",
              "      <td>2139177013.849</td>\n",
              "      <td>547057960.540789</td>\n",
              "    </tr>\n",
              "    <tr>\n",
              "      <th>4</th>\n",
              "      <td>GradientBoostingRegressor</td>\n",
              "      <td>522752192.070442</td>\n",
              "      <td>1172851637.600639</td>\n",
              "      <td>2412071318.307915</td>\n",
              "      <td>662501853.316083</td>\n",
              "    </tr>\n",
              "    <tr>\n",
              "      <th>6</th>\n",
              "      <td>AdaBoostRegressor</td>\n",
              "      <td>1016460501.038066</td>\n",
              "      <td>1530245240.373453</td>\n",
              "      <td>2119711200.780381</td>\n",
              "      <td>432170711.179038</td>\n",
              "    </tr>\n",
              "    <tr>\n",
              "      <th>1</th>\n",
              "      <td>XGBRegressor</td>\n",
              "      <td>955367844.23977</td>\n",
              "      <td>1918782361.822551</td>\n",
              "      <td>3162479671.800502</td>\n",
              "      <td>806821354.332393</td>\n",
              "    </tr>\n",
              "    <tr>\n",
              "      <th>2</th>\n",
              "      <td>DecisionTreeRegressor</td>\n",
              "      <td>1190581865.656652</td>\n",
              "      <td>1971467328.624823</td>\n",
              "      <td>2817865897.983381</td>\n",
              "      <td>551120345.076409</td>\n",
              "    </tr>\n",
              "    <tr>\n",
              "      <th>0</th>\n",
              "      <td>LinearRegression</td>\n",
              "      <td>627167597.250063</td>\n",
              "      <td>3060501235.251555</td>\n",
              "      <td>4073764700.907537</td>\n",
              "      <td>1247643100.442971</td>\n",
              "    </tr>\n",
              "  </tbody>\n",
              "</table>\n",
              "</div>"
            ],
            "text/plain": [
              "                   estimator          min_score         mean_score  \\\n",
              "3      RandomForestRegressor   632588078.306847   1167394965.08276   \n",
              "5        ExtraTreesRegressor   621355849.059689  1171837160.077593   \n",
              "4  GradientBoostingRegressor   522752192.070442  1172851637.600639   \n",
              "6          AdaBoostRegressor  1016460501.038066  1530245240.373453   \n",
              "1               XGBRegressor    955367844.23977  1918782361.822551   \n",
              "2      DecisionTreeRegressor  1190581865.656652  1971467328.624823   \n",
              "0           LinearRegression   627167597.250063  3060501235.251555   \n",
              "\n",
              "           max_score          std_score  \n",
              "3  2058859632.006319   514732005.043626  \n",
              "5     2139177013.849   547057960.540789  \n",
              "4  2412071318.307915   662501853.316083  \n",
              "6  2119711200.780381   432170711.179038  \n",
              "1  3162479671.800502   806821354.332393  \n",
              "2  2817865897.983381   551120345.076409  \n",
              "0  4073764700.907537  1247643100.442971  "
            ]
          },
          "execution_count": 92,
          "metadata": {},
          "output_type": "execute_result"
        }
      ],
      "source": [
        "grid_search_summary, grid_search_pipelines = search_mean_sq_error.score_summary(sort_by='mean_score')\n",
        "grid_search_summary"
      ]
    },
    {
      "cell_type": "markdown",
      "metadata": {},
      "source": [
        "# Results:\n",
        "The 3 best algorithms for r2 score are ExtraTrees, GradientBoosting and RandomForest, with RandomForest being the top algo. It also scores the lowest mean_squared_error, and\n",
        "so is the obvious choice of algorithm.\n",
        "\n",
        "The mean root_mean_squared score is 1182713348, and the mean r2 score is 0.811604"
      ]
    },
    {
      "cell_type": "markdown",
      "metadata": {},
      "source": [
        "### Do an extensive search on the most suitable algorithm to find the best hyperparameter configuration."
      ]
    },
    {
      "cell_type": "code",
      "execution_count": 93,
      "metadata": {},
      "outputs": [],
      "source": [
        "models_search = {\n",
        "    \"RandomForestRegressor\":RandomForestRegressor(random_state=0),\n",
        "}\n",
        "\n",
        "# We will not conduct an extensive search, since the focus\n",
        "# is on how to combine all knowledge in an applied project.\n",
        "# In a workplace project, you may spend more time in this step\n",
        "params_search = {\n",
        "    \"RandomForestRegressor\":{\n",
        "        'model__n_estimators': [50, 100, 250, 500], \n",
        "        'model__max_depth': [3,5,10,15,None],\n",
        "    }\n",
        "}"
      ]
    },
    {
      "cell_type": "markdown",
      "metadata": {},
      "source": [
        "Extensive GridSearch - RandomForestRegressor"
      ]
    },
    {
      "cell_type": "code",
      "execution_count": 94,
      "metadata": {},
      "outputs": [
        {
          "name": "stdout",
          "output_type": "stream",
          "text": [
            "\n",
            "Running GridSearchCV for RandomForestRegressor \n",
            "\n",
            "Fitting 5 folds for each of 20 candidates, totalling 100 fits\n"
          ]
        }
      ],
      "source": [
        "from sklearn.metrics import recall_score, make_scorer\n",
        "search = HyperparameterOptimizationSearch(models=models_search, params=params_search)\n",
        "search.fit(X_train, y_train,\n",
        "           scoring =  make_scorer(r2_score),\n",
        "           n_jobs=-1, cv=5)"
      ]
    },
    {
      "cell_type": "markdown",
      "metadata": {},
      "source": [
        "Check results"
      ]
    },
    {
      "cell_type": "code",
      "execution_count": 95,
      "metadata": {},
      "outputs": [
        {
          "data": {
            "text/html": [
              "<div>\n",
              "<style scoped>\n",
              "    .dataframe tbody tr th:only-of-type {\n",
              "        vertical-align: middle;\n",
              "    }\n",
              "\n",
              "    .dataframe tbody tr th {\n",
              "        vertical-align: top;\n",
              "    }\n",
              "\n",
              "    .dataframe thead th {\n",
              "        text-align: right;\n",
              "    }\n",
              "</style>\n",
              "<table border=\"1\" class=\"dataframe\">\n",
              "  <thead>\n",
              "    <tr style=\"text-align: right;\">\n",
              "      <th></th>\n",
              "      <th>estimator</th>\n",
              "      <th>min_score</th>\n",
              "      <th>mean_score</th>\n",
              "      <th>max_score</th>\n",
              "      <th>std_score</th>\n",
              "      <th>model__max_depth</th>\n",
              "      <th>model__n_estimators</th>\n",
              "    </tr>\n",
              "  </thead>\n",
              "  <tbody>\n",
              "    <tr>\n",
              "      <th>3</th>\n",
              "      <td>RandomForestRegressor</td>\n",
              "      <td>0.65327</td>\n",
              "      <td>0.749755</td>\n",
              "      <td>0.798667</td>\n",
              "      <td>0.056112</td>\n",
              "      <td>3</td>\n",
              "      <td>500</td>\n",
              "    </tr>\n",
              "    <tr>\n",
              "      <th>0</th>\n",
              "      <td>RandomForestRegressor</td>\n",
              "      <td>0.64749</td>\n",
              "      <td>0.751686</td>\n",
              "      <td>0.801251</td>\n",
              "      <td>0.05641</td>\n",
              "      <td>3</td>\n",
              "      <td>50</td>\n",
              "    </tr>\n",
              "    <tr>\n",
              "      <th>1</th>\n",
              "      <td>RandomForestRegressor</td>\n",
              "      <td>0.647365</td>\n",
              "      <td>0.751898</td>\n",
              "      <td>0.801961</td>\n",
              "      <td>0.057501</td>\n",
              "      <td>3</td>\n",
              "      <td>100</td>\n",
              "    </tr>\n",
              "    <tr>\n",
              "      <th>2</th>\n",
              "      <td>RandomForestRegressor</td>\n",
              "      <td>0.65661</td>\n",
              "      <td>0.752495</td>\n",
              "      <td>0.799895</td>\n",
              "      <td>0.054501</td>\n",
              "      <td>3</td>\n",
              "      <td>250</td>\n",
              "    </tr>\n",
              "    <tr>\n",
              "      <th>7</th>\n",
              "      <td>RandomForestRegressor</td>\n",
              "      <td>0.676286</td>\n",
              "      <td>0.803382</td>\n",
              "      <td>0.865869</td>\n",
              "      <td>0.070003</td>\n",
              "      <td>5</td>\n",
              "      <td>500</td>\n",
              "    </tr>\n",
              "    <tr>\n",
              "      <th>4</th>\n",
              "      <td>RandomForestRegressor</td>\n",
              "      <td>0.677337</td>\n",
              "      <td>0.803588</td>\n",
              "      <td>0.859532</td>\n",
              "      <td>0.066796</td>\n",
              "      <td>5</td>\n",
              "      <td>50</td>\n",
              "    </tr>\n",
              "    <tr>\n",
              "      <th>6</th>\n",
              "      <td>RandomForestRegressor</td>\n",
              "      <td>0.681788</td>\n",
              "      <td>0.80509</td>\n",
              "      <td>0.86584</td>\n",
              "      <td>0.06768</td>\n",
              "      <td>5</td>\n",
              "      <td>250</td>\n",
              "    </tr>\n",
              "    <tr>\n",
              "      <th>5</th>\n",
              "      <td>RandomForestRegressor</td>\n",
              "      <td>0.68134</td>\n",
              "      <td>0.80559</td>\n",
              "      <td>0.864889</td>\n",
              "      <td>0.066868</td>\n",
              "      <td>5</td>\n",
              "      <td>100</td>\n",
              "    </tr>\n",
              "    <tr>\n",
              "      <th>15</th>\n",
              "      <td>RandomForestRegressor</td>\n",
              "      <td>0.68803</td>\n",
              "      <td>0.813611</td>\n",
              "      <td>0.87849</td>\n",
              "      <td>0.071044</td>\n",
              "      <td>15</td>\n",
              "      <td>500</td>\n",
              "    </tr>\n",
              "    <tr>\n",
              "      <th>19</th>\n",
              "      <td>RandomForestRegressor</td>\n",
              "      <td>0.689094</td>\n",
              "      <td>0.813948</td>\n",
              "      <td>0.879267</td>\n",
              "      <td>0.071071</td>\n",
              "      <td>None</td>\n",
              "      <td>500</td>\n",
              "    </tr>\n",
              "    <tr>\n",
              "      <th>18</th>\n",
              "      <td>RandomForestRegressor</td>\n",
              "      <td>0.694099</td>\n",
              "      <td>0.814311</td>\n",
              "      <td>0.87978</td>\n",
              "      <td>0.068931</td>\n",
              "      <td>None</td>\n",
              "      <td>250</td>\n",
              "    </tr>\n",
              "    <tr>\n",
              "      <th>14</th>\n",
              "      <td>RandomForestRegressor</td>\n",
              "      <td>0.691364</td>\n",
              "      <td>0.814636</td>\n",
              "      <td>0.87805</td>\n",
              "      <td>0.069714</td>\n",
              "      <td>15</td>\n",
              "      <td>250</td>\n",
              "    </tr>\n",
              "    <tr>\n",
              "      <th>16</th>\n",
              "      <td>RandomForestRegressor</td>\n",
              "      <td>0.695092</td>\n",
              "      <td>0.815901</td>\n",
              "      <td>0.875476</td>\n",
              "      <td>0.066091</td>\n",
              "      <td>None</td>\n",
              "      <td>50</td>\n",
              "    </tr>\n",
              "    <tr>\n",
              "      <th>11</th>\n",
              "      <td>RandomForestRegressor</td>\n",
              "      <td>0.691351</td>\n",
              "      <td>0.816011</td>\n",
              "      <td>0.877914</td>\n",
              "      <td>0.069761</td>\n",
              "      <td>10</td>\n",
              "      <td>500</td>\n",
              "    </tr>\n",
              "    <tr>\n",
              "      <th>13</th>\n",
              "      <td>RandomForestRegressor</td>\n",
              "      <td>0.693195</td>\n",
              "      <td>0.816192</td>\n",
              "      <td>0.876853</td>\n",
              "      <td>0.068024</td>\n",
              "      <td>15</td>\n",
              "      <td>100</td>\n",
              "    </tr>\n",
              "    <tr>\n",
              "      <th>10</th>\n",
              "      <td>RandomForestRegressor</td>\n",
              "      <td>0.697451</td>\n",
              "      <td>0.817308</td>\n",
              "      <td>0.878103</td>\n",
              "      <td>0.06735</td>\n",
              "      <td>10</td>\n",
              "      <td>250</td>\n",
              "    </tr>\n",
              "    <tr>\n",
              "      <th>12</th>\n",
              "      <td>RandomForestRegressor</td>\n",
              "      <td>0.69594</td>\n",
              "      <td>0.817537</td>\n",
              "      <td>0.871557</td>\n",
              "      <td>0.065511</td>\n",
              "      <td>15</td>\n",
              "      <td>50</td>\n",
              "    </tr>\n",
              "    <tr>\n",
              "      <th>17</th>\n",
              "      <td>RandomForestRegressor</td>\n",
              "      <td>0.700662</td>\n",
              "      <td>0.817792</td>\n",
              "      <td>0.880104</td>\n",
              "      <td>0.065995</td>\n",
              "      <td>None</td>\n",
              "      <td>100</td>\n",
              "    </tr>\n",
              "    <tr>\n",
              "      <th>8</th>\n",
              "      <td>RandomForestRegressor</td>\n",
              "      <td>0.698984</td>\n",
              "      <td>0.819041</td>\n",
              "      <td>0.873268</td>\n",
              "      <td>0.0646</td>\n",
              "      <td>10</td>\n",
              "      <td>50</td>\n",
              "    </tr>\n",
              "    <tr>\n",
              "      <th>9</th>\n",
              "      <td>RandomForestRegressor</td>\n",
              "      <td>0.696018</td>\n",
              "      <td>0.820074</td>\n",
              "      <td>0.879417</td>\n",
              "      <td>0.067215</td>\n",
              "      <td>10</td>\n",
              "      <td>100</td>\n",
              "    </tr>\n",
              "  </tbody>\n",
              "</table>\n",
              "</div>"
            ],
            "text/plain": [
              "                estimator min_score mean_score max_score std_score  \\\n",
              "3   RandomForestRegressor   0.65327   0.749755  0.798667  0.056112   \n",
              "0   RandomForestRegressor   0.64749   0.751686  0.801251   0.05641   \n",
              "1   RandomForestRegressor  0.647365   0.751898  0.801961  0.057501   \n",
              "2   RandomForestRegressor   0.65661   0.752495  0.799895  0.054501   \n",
              "7   RandomForestRegressor  0.676286   0.803382  0.865869  0.070003   \n",
              "4   RandomForestRegressor  0.677337   0.803588  0.859532  0.066796   \n",
              "6   RandomForestRegressor  0.681788    0.80509   0.86584   0.06768   \n",
              "5   RandomForestRegressor   0.68134    0.80559  0.864889  0.066868   \n",
              "15  RandomForestRegressor   0.68803   0.813611   0.87849  0.071044   \n",
              "19  RandomForestRegressor  0.689094   0.813948  0.879267  0.071071   \n",
              "18  RandomForestRegressor  0.694099   0.814311   0.87978  0.068931   \n",
              "14  RandomForestRegressor  0.691364   0.814636   0.87805  0.069714   \n",
              "16  RandomForestRegressor  0.695092   0.815901  0.875476  0.066091   \n",
              "11  RandomForestRegressor  0.691351   0.816011  0.877914  0.069761   \n",
              "13  RandomForestRegressor  0.693195   0.816192  0.876853  0.068024   \n",
              "10  RandomForestRegressor  0.697451   0.817308  0.878103   0.06735   \n",
              "12  RandomForestRegressor   0.69594   0.817537  0.871557  0.065511   \n",
              "17  RandomForestRegressor  0.700662   0.817792  0.880104  0.065995   \n",
              "8   RandomForestRegressor  0.698984   0.819041  0.873268    0.0646   \n",
              "9   RandomForestRegressor  0.696018   0.820074  0.879417  0.067215   \n",
              "\n",
              "   model__max_depth model__n_estimators  \n",
              "3                 3                 500  \n",
              "0                 3                  50  \n",
              "1                 3                 100  \n",
              "2                 3                 250  \n",
              "7                 5                 500  \n",
              "4                 5                  50  \n",
              "6                 5                 250  \n",
              "5                 5                 100  \n",
              "15               15                 500  \n",
              "19             None                 500  \n",
              "18             None                 250  \n",
              "14               15                 250  \n",
              "16             None                  50  \n",
              "11               10                 500  \n",
              "13               15                 100  \n",
              "10               10                 250  \n",
              "12               15                  50  \n",
              "17             None                 100  \n",
              "8                10                  50  \n",
              "9                10                 100  "
            ]
          },
          "execution_count": 95,
          "metadata": {},
          "output_type": "execute_result"
        }
      ],
      "source": [
        "grid_search_summary, grid_search_pipelines = search.score_summary(sort_by='mean_score')\n",
        "grid_search_summary "
      ]
    },
    {
      "cell_type": "code",
      "execution_count": 96,
      "metadata": {},
      "outputs": [
        {
          "data": {
            "text/plain": [
              "{'model__max_depth': 10, 'model__n_estimators': 100}"
            ]
          },
          "execution_count": 96,
          "metadata": {},
          "output_type": "execute_result"
        }
      ],
      "source": [
        "best_model = 'RandomForestRegressor'\n",
        "best_parameters = grid_search_pipelines[best_model].best_params_\n",
        "best_parameters"
      ]
    },
    {
      "cell_type": "markdown",
      "metadata": {},
      "source": [
        "Define the best pipeline"
      ]
    },
    {
      "cell_type": "code",
      "execution_count": 97,
      "metadata": {},
      "outputs": [
        {
          "data": {
            "text/plain": [
              "Pipeline(steps=[('scaler', StandardScaler()),\n",
              "                ('feat_selection',\n",
              "                 SelectFromModel(estimator=RandomForestRegressor(random_state=0))),\n",
              "                ('model', RandomForestRegressor(max_depth=10, random_state=0))])"
            ]
          },
          "execution_count": 97,
          "metadata": {},
          "output_type": "execute_result"
        }
      ],
      "source": [
        "pipeline_regression = grid_search_pipelines[best_model].best_estimator_\n",
        "pipeline_regression"
      ]
    },
    {
      "cell_type": "markdown",
      "metadata": {},
      "source": [
        "---\n",
        "\n",
        "# Assess Feature Importance"
      ]
    },
    {
      "cell_type": "code",
      "execution_count": 71,
      "metadata": {},
      "outputs": [
        {
          "data": {
            "text/html": [
              "<div>\n",
              "<style scoped>\n",
              "    .dataframe tbody tr th:only-of-type {\n",
              "        vertical-align: middle;\n",
              "    }\n",
              "\n",
              "    .dataframe tbody tr th {\n",
              "        vertical-align: top;\n",
              "    }\n",
              "\n",
              "    .dataframe thead th {\n",
              "        text-align: right;\n",
              "    }\n",
              "</style>\n",
              "<table border=\"1\" class=\"dataframe\">\n",
              "  <thead>\n",
              "    <tr style=\"text-align: right;\">\n",
              "      <th></th>\n",
              "      <th>Unnamed: 0</th>\n",
              "      <th>1stFlrSF</th>\n",
              "      <th>2ndFlrSF</th>\n",
              "      <th>BedroomAbvGr</th>\n",
              "      <th>BsmtFinSF1</th>\n",
              "      <th>BsmtUnfSF</th>\n",
              "      <th>EnclosedPorch</th>\n",
              "      <th>GarageArea</th>\n",
              "      <th>GarageYrBlt</th>\n",
              "      <th>GrLivArea</th>\n",
              "      <th>...</th>\n",
              "      <th>BsmtFinType1_LwQ</th>\n",
              "      <th>BsmtFinType1_BLQ</th>\n",
              "      <th>GarageFinish_Unf</th>\n",
              "      <th>GarageFinish_NotApplicable</th>\n",
              "      <th>GarageFinish_RFn</th>\n",
              "      <th>GarageFinish_Fin</th>\n",
              "      <th>KitchenQual_Gd</th>\n",
              "      <th>KitchenQual_TA</th>\n",
              "      <th>KitchenQual_Ex</th>\n",
              "      <th>KitchenQual_Fa</th>\n",
              "    </tr>\n",
              "  </thead>\n",
              "  <tbody>\n",
              "    <tr>\n",
              "      <th>618</th>\n",
              "      <td>618</td>\n",
              "      <td>1828</td>\n",
              "      <td>0.0</td>\n",
              "      <td>0.0</td>\n",
              "      <td>48</td>\n",
              "      <td>1774</td>\n",
              "      <td>0.0</td>\n",
              "      <td>774</td>\n",
              "      <td>2007.0</td>\n",
              "      <td>1828</td>\n",
              "      <td>...</td>\n",
              "      <td>0</td>\n",
              "      <td>0</td>\n",
              "      <td>1</td>\n",
              "      <td>0</td>\n",
              "      <td>0</td>\n",
              "      <td>0</td>\n",
              "      <td>1</td>\n",
              "      <td>0</td>\n",
              "      <td>0</td>\n",
              "      <td>0</td>\n",
              "    </tr>\n",
              "    <tr>\n",
              "      <th>870</th>\n",
              "      <td>870</td>\n",
              "      <td>894</td>\n",
              "      <td>0.0</td>\n",
              "      <td>2.0</td>\n",
              "      <td>0</td>\n",
              "      <td>894</td>\n",
              "      <td>0.0</td>\n",
              "      <td>308</td>\n",
              "      <td>1962.0</td>\n",
              "      <td>894</td>\n",
              "      <td>...</td>\n",
              "      <td>0</td>\n",
              "      <td>0</td>\n",
              "      <td>0</td>\n",
              "      <td>1</td>\n",
              "      <td>0</td>\n",
              "      <td>0</td>\n",
              "      <td>0</td>\n",
              "      <td>1</td>\n",
              "      <td>0</td>\n",
              "      <td>0</td>\n",
              "    </tr>\n",
              "    <tr>\n",
              "      <th>92</th>\n",
              "      <td>92</td>\n",
              "      <td>964</td>\n",
              "      <td>0.0</td>\n",
              "      <td>2.0</td>\n",
              "      <td>713</td>\n",
              "      <td>163</td>\n",
              "      <td>0.0</td>\n",
              "      <td>432</td>\n",
              "      <td>1921.0</td>\n",
              "      <td>964</td>\n",
              "      <td>...</td>\n",
              "      <td>0</td>\n",
              "      <td>0</td>\n",
              "      <td>1</td>\n",
              "      <td>0</td>\n",
              "      <td>0</td>\n",
              "      <td>0</td>\n",
              "      <td>0</td>\n",
              "      <td>1</td>\n",
              "      <td>0</td>\n",
              "      <td>0</td>\n",
              "    </tr>\n",
              "    <tr>\n",
              "      <th>817</th>\n",
              "      <td>817</td>\n",
              "      <td>1689</td>\n",
              "      <td>0.0</td>\n",
              "      <td>3.0</td>\n",
              "      <td>1218</td>\n",
              "      <td>350</td>\n",
              "      <td>0.0</td>\n",
              "      <td>857</td>\n",
              "      <td>2002.0</td>\n",
              "      <td>1689</td>\n",
              "      <td>...</td>\n",
              "      <td>0</td>\n",
              "      <td>0</td>\n",
              "      <td>0</td>\n",
              "      <td>0</td>\n",
              "      <td>1</td>\n",
              "      <td>0</td>\n",
              "      <td>1</td>\n",
              "      <td>0</td>\n",
              "      <td>0</td>\n",
              "      <td>0</td>\n",
              "    </tr>\n",
              "    <tr>\n",
              "      <th>302</th>\n",
              "      <td>302</td>\n",
              "      <td>1541</td>\n",
              "      <td>0.0</td>\n",
              "      <td>3.0</td>\n",
              "      <td>0</td>\n",
              "      <td>1541</td>\n",
              "      <td>0.0</td>\n",
              "      <td>843</td>\n",
              "      <td>2001.0</td>\n",
              "      <td>1541</td>\n",
              "      <td>...</td>\n",
              "      <td>0</td>\n",
              "      <td>0</td>\n",
              "      <td>0</td>\n",
              "      <td>0</td>\n",
              "      <td>1</td>\n",
              "      <td>0</td>\n",
              "      <td>1</td>\n",
              "      <td>0</td>\n",
              "      <td>0</td>\n",
              "      <td>0</td>\n",
              "    </tr>\n",
              "  </tbody>\n",
              "</table>\n",
              "<p>5 rows × 40 columns</p>\n",
              "</div>"
            ],
            "text/plain": [
              "     Unnamed: 0  1stFlrSF  2ndFlrSF  BedroomAbvGr  BsmtFinSF1  BsmtUnfSF  \\\n",
              "618         618      1828       0.0           0.0          48       1774   \n",
              "870         870       894       0.0           2.0           0        894   \n",
              "92           92       964       0.0           2.0         713        163   \n",
              "817         817      1689       0.0           3.0        1218        350   \n",
              "302         302      1541       0.0           3.0           0       1541   \n",
              "\n",
              "     EnclosedPorch  GarageArea  GarageYrBlt  GrLivArea  ...  BsmtFinType1_LwQ  \\\n",
              "618            0.0         774       2007.0       1828  ...                 0   \n",
              "870            0.0         308       1962.0        894  ...                 0   \n",
              "92             0.0         432       1921.0        964  ...                 0   \n",
              "817            0.0         857       2002.0       1689  ...                 0   \n",
              "302            0.0         843       2001.0       1541  ...                 0   \n",
              "\n",
              "     BsmtFinType1_BLQ  GarageFinish_Unf  GarageFinish_NotApplicable  \\\n",
              "618                 0                 1                           0   \n",
              "870                 0                 0                           1   \n",
              "92                  0                 1                           0   \n",
              "817                 0                 0                           0   \n",
              "302                 0                 0                           0   \n",
              "\n",
              "     GarageFinish_RFn  GarageFinish_Fin  KitchenQual_Gd  KitchenQual_TA  \\\n",
              "618                 0                 0               1               0   \n",
              "870                 0                 0               0               1   \n",
              "92                  0                 0               0               1   \n",
              "817                 1                 0               1               0   \n",
              "302                 1                 0               1               0   \n",
              "\n",
              "     KitchenQual_Ex  KitchenQual_Fa  \n",
              "618               0               0  \n",
              "870               0               0  \n",
              "92                0               0  \n",
              "817               0               0  \n",
              "302               0               0  \n",
              "\n",
              "[5 rows x 40 columns]"
            ]
          },
          "execution_count": 71,
          "metadata": {},
          "output_type": "execute_result"
        }
      ],
      "source": [
        "X_train.head(5)"
      ]
    },
    {
      "cell_type": "code",
      "execution_count": 98,
      "metadata": {},
      "outputs": [
        {
          "name": "stdout",
          "output_type": "stream",
          "text": [
            "* These are the 5 most important features in descending order. The model was trained on them: \n",
            "['OverallQual', 'GrLivArea', 'TotalBsmtSF', 'BsmtFinSF1', 'GarageArea']\n"
          ]
        },
        {
          "data": {
            "image/png": "[encoded data removed]",
            "text/plain": [
              "<Figure size 640x480 with 1 Axes>"
            ]
          },
          "metadata": {},
          "output_type": "display_data"
        }
      ],
      "source": [
        "import matplotlib.pyplot as plt\n",
        "\n",
        "# create DataFrame to display feature importance\n",
        "df_feature_importance = (pd.DataFrame(data={\n",
        "    'Feature': X_train.columns[pipeline_regression['feat_selection'].get_support()],\n",
        "    'Importance': pipeline_regression['model'].feature_importances_})\n",
        "    .sort_values(by='Importance', ascending=False)\n",
        ")\n",
        "\n",
        "# re-assign best_features order\n",
        "best_features = df_feature_importance['Feature'].to_list()\n",
        "\n",
        "# Most important features statement and plot\n",
        "print(f\"* These are the {len(best_features)} most important features in descending order. \"\n",
        "      f\"The model was trained on them: \\n{df_feature_importance['Feature'].to_list()}\")\n",
        "\n",
        "df_feature_importance.plot(kind='bar', x='Feature', y='Importance')\n",
        "plt.show()\n"
      ]
    },
    {
      "cell_type": "markdown",
      "metadata": {},
      "source": [
        "# Evaluate Pipeline on Train and Test Sets"
      ]
    },
    {
      "cell_type": "code",
      "execution_count": 75,
      "metadata": {},
      "outputs": [],
      "source": [
        "from sklearn.metrics import mean_absolute_error, mean_squared_error, r2_score\n",
        "import numpy as np\n",
        "\n",
        "def regression_report(y_true, y_pred):\n",
        "    mae = mean_absolute_error(y_true, y_pred)\n",
        "    mse = mean_squared_error(y_true, y_pred)\n",
        "    rmse = np.sqrt(mse)\n",
        "    r2 = r2_score(y_true, y_pred)\n",
        "    mape = np.mean(np.abs((y_true - y_pred) / y_true)) * 100\n",
        "\n",
        "    report = {\n",
        "        \"Mean Absolute Error (MAE)\": mae,\n",
        "        \"Mean Squared Error (MSE)\": mse,\n",
        "        \"Root Mean Squared Error (RMSE)\": rmse,\n",
        "        \"R-squared (R²)\": r2,\n",
        "        \"Mean Absolute Percentage Error (MAPE)\": mape\n",
        "    }\n",
        "    return report"
      ]
    },
    {
      "cell_type": "markdown",
      "metadata": {},
      "source": [
        "Train set"
      ]
    },
    {
      "cell_type": "code",
      "execution_count": 99,
      "metadata": {},
      "outputs": [
        {
          "name": "stdout",
          "output_type": "stream",
          "text": [
            "Mean Absolute Error (MAE): 10100.707601923232\n",
            "Mean Squared Error (MSE): 219725497.52446666\n",
            "Root Mean Squared Error (RMSE): 14823.140609346814\n",
            "R-squared (R²): 0.9643126655320058\n",
            "Mean Absolute Percentage Error (MAPE): 6.316579738155534\n"
          ]
        }
      ],
      "source": [
        "prediction = pipeline_regression.predict(X_train)\n",
        "\n",
        "report = regression_report(y_train, prediction)\n",
        "for metric, value in report.items():\n",
        "    print(f\"{metric}: {value}\")"
      ]
    },
    {
      "cell_type": "markdown",
      "metadata": {},
      "source": [
        "Test set"
      ]
    },
    {
      "cell_type": "code",
      "execution_count": 100,
      "metadata": {},
      "outputs": [
        {
          "name": "stdout",
          "output_type": "stream",
          "text": [
            "Mean Absolute Error (MAE): 20391.853323159772\n",
            "Mean Squared Error (MSE): 1120920869.8152843\n",
            "Root Mean Squared Error (RMSE): 33480.156358883454\n",
            "R-squared (R²): 0.8376853138052471\n",
            "Mean Absolute Percentage Error (MAPE): 11.588219177981317\n"
          ]
        }
      ],
      "source": [
        "prediction = pipeline_regression.predict(X_test)\n",
        "\n",
        "report = regression_report(y_test, prediction)\n",
        "for metric, value in report.items():\n",
        "    print(f'{metric}: {value}')\n"
      ]
    },
    {
      "cell_type": "markdown",
      "metadata": {},
      "source": [
        "---"
      ]
    },
    {
      "cell_type": "markdown",
      "metadata": {
        "id": "ltNetd085qHf"
      },
      "source": [
        "# Push files to Repo"
      ]
    },
    {
      "cell_type": "markdown",
      "metadata": {},
      "source": [
        "* If you do not need to push files to Repo, you may replace this section with \"Conclusions and Next Steps\" and state your conclusions and next steps."
      ]
    },
    {
      "cell_type": "code",
      "execution_count": null,
      "metadata": {
        "id": "aKlnIozA4eQO",
        "outputId": "fd09bc1f-adb1-4511-f6ce-492a6af570c0"
      },
      "outputs": [],
      "source": [
        "import os\n",
        "try:\n",
        "  # create here your folder\n",
        "  # os.makedirs(name='')\n",
        "except Exception as e:\n",
        "  print(e)\n"
      ]
    }
  ],
  "metadata": {
    "accelerator": "GPU",
    "colab": {
      "name": "Data Practitioner Jupyter Notebook.ipynb",
      "provenance": [],
      "toc_visible": true
    },
    "interpreter": {
      "hash": "8b8334dab9339717f727a1deaf837b322d7a41c20d15cc86be99a8e69ceec8ce"
    },
    "kernelspec": {
      "display_name": "Python 3.8.12 64-bit ('3.8.12': pyenv)",
      "name": "python3"
    },
    "language_info": {
      "codemirror_mode": {
        "name": "ipython",
        "version": 3
      },
      "file_extension": ".py",
      "mimetype": "text/x-python",
      "name": "python",
      "nbconvert_exporter": "python",
      "pygments_lexer": "ipython3",
      "version": "3.8.18"
    },
    "orig_nbformat": 2
  },
  "nbformat": 4,
  "nbformat_minor": 2
}
